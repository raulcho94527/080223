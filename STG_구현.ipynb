{
  "nbformat": 4,
  "nbformat_minor": 0,
  "metadata": {
    "colab": {
      "provenance": [],
      "authorship_tag": "ABX9TyPRVpSo+W/Y3nxk9lBV9/EU",
      "include_colab_link": true
    },
    "kernelspec": {
      "name": "python3",
      "display_name": "Python 3"
    },
    "language_info": {
      "name": "python"
    }
  },
  "cells": [
    {
      "cell_type": "markdown",
      "metadata": {
        "id": "view-in-github",
        "colab_type": "text"
      },
      "source": [
        "<a href=\"https://colab.research.google.com/github/raulcho94527/080223/blob/master/STG_%EA%B5%AC%ED%98%84.ipynb\" target=\"_parent\"><img src=\"https://colab.research.google.com/assets/colab-badge.svg\" alt=\"Open In Colab\"/></a>"
      ]
    },
    {
      "cell_type": "code",
      "execution_count": 49,
      "metadata": {
        "id": "j849ZC5woIPL"
      },
      "outputs": [],
      "source": [
        "import tensorflow as tf\n",
        "from tensorflow import keras\n",
        "import numpy as np\n",
        "import matplotlib.pyplot as plt\n",
        "import torch"
      ]
    },
    {
      "cell_type": "code",
      "source": [
        "from keras.datasets import mnist\n",
        "\n",
        "train, test = mnist.load_data()\n",
        "mnist_train_X , mnist_train_y = train\n",
        "mnist_test_X ,  mnist_test_y = test\n",
        "mnist_train_X = mnist_train_X /255.0\n",
        "mnist_test_X = mnist_test_X /255.0"
      ],
      "metadata": {
        "id": "DH7lltiaoUd7"
      },
      "execution_count": 50,
      "outputs": []
    },
    {
      "cell_type": "code",
      "source": [
        "X_train, y_train = mnist_train_X , mnist_train_y\n",
        "X_valid, y_valid = mnist_test_X , mnist_test_y\n",
        "X_train = (X_train.reshape(-1,784))\n",
        "X_valid = (X_valid.reshape(-1,784))"
      ],
      "metadata": {
        "id": "suh_wdt3osB7"
      },
      "execution_count": 51,
      "outputs": []
    },
    {
      "cell_type": "code",
      "source": [
        "y_train_3 = [label == 3 for label in y_train] \n",
        "y_train_8 = [label ==8 for label in y_train]"
      ],
      "metadata": {
        "id": "TXGkvUSYpFYi"
      },
      "execution_count": 52,
      "outputs": []
    },
    {
      "cell_type": "code",
      "source": [
        "X_train_3 = [X_train[idx] for idx, label in enumerate(y_train_3) if label == True]\n",
        "X_train_8 = [X_train[idx] for idx , label in enumerate(y_train_8)if label == True]"
      ],
      "metadata": {
        "id": "H6NJw02npSMq"
      },
      "execution_count": 53,
      "outputs": []
    },
    {
      "cell_type": "code",
      "source": [
        "plt.imshow(X_train_3[2].reshape(28,28))"
      ],
      "metadata": {
        "colab": {
          "base_uri": "https://localhost:8080/",
          "height": 284
        },
        "id": "20DJyKagplWC",
        "outputId": "4a2083ea-16fc-4877-b347-2ab355b017ac"
      },
      "execution_count": 54,
      "outputs": [
        {
          "output_type": "execute_result",
          "data": {
            "text/plain": [
              "<matplotlib.image.AxesImage at 0x7f9be60d29d0>"
            ]
          },
          "metadata": {},
          "execution_count": 54
        },
        {
          "output_type": "display_data",
          "data": {
            "text/plain": [
              "<Figure size 432x288 with 1 Axes>"
            ],
            "image/png": "[encoded data removed]"
          },
          "metadata": {
            "needs_background": "light"
          }
        }
      ]
    },
    {
      "cell_type": "code",
      "source": [
        "plt.imshow(X_train_8[2].reshape(28,28))"
      ],
      "metadata": {
        "colab": {
          "base_uri": "https://localhost:8080/",
          "height": 284
        },
        "id": "2aW1rssEqYLf",
        "outputId": "646a2e32-7eb1-4008-b13b-e0f269e104cc"
      },
      "execution_count": 55,
      "outputs": [
        {
          "output_type": "execute_result",
          "data": {
            "text/plain": [
              "<matplotlib.image.AxesImage at 0x7f9be78a6810>"
            ]
          },
          "metadata": {},
          "execution_count": 55
        },
        {
          "output_type": "display_data",
          "data": {
            "text/plain": [
              "<Figure size 432x288 with 1 Axes>"
            ],
            "image/png": "[encoded data removed]"
          },
          "metadata": {
            "needs_background": "light"
          }
        }
      ]
    },
    {
      "cell_type": "code",
      "source": [],
      "metadata": {
        "id": "H0p-jcewq6I0"
      },
      "execution_count": 55,
      "outputs": []
    },
    {
      "cell_type": "code",
      "source": [
        "X_38 = np.concatenate((np.array(X_train_3), np.array(X_train_8)))"
      ],
      "metadata": {
        "id": "FNxHbqipq0Ev"
      },
      "execution_count": 56,
      "outputs": []
    },
    {
      "cell_type": "code",
      "source": [
        "X_38.shape"
      ],
      "metadata": {
        "colab": {
          "base_uri": "https://localhost:8080/"
        },
        "id": "7kCEGxHPrVus",
        "outputId": "da22b85b-bf15-488c-e43a-93878107153a"
      },
      "execution_count": 57,
      "outputs": [
        {
          "output_type": "execute_result",
          "data": {
            "text/plain": [
              "(11982, 784)"
            ]
          },
          "metadata": {},
          "execution_count": 57
        }
      ]
    },
    {
      "cell_type": "code",
      "source": [
        "y_38 = np.array([0 for i in X_train_3]+ [1 for i in X_train_8], dtype = np.int32)"
      ],
      "metadata": {
        "id": "_5LtXLpArVk3"
      },
      "execution_count": 58,
      "outputs": []
    },
    {
      "cell_type": "code",
      "source": [
        "y_38"
      ],
      "metadata": {
        "colab": {
          "base_uri": "https://localhost:8080/"
        },
        "id": "2Yr7HLixrjzl",
        "outputId": "d4b45a69-344d-4a4e-ab8e-3ce5a9da90a0"
      },
      "execution_count": 59,
      "outputs": [
        {
          "output_type": "execute_result",
          "data": {
            "text/plain": [
              "array([0, 0, 0, ..., 1, 1, 1], dtype=int32)"
            ]
          },
          "metadata": {},
          "execution_count": 59
        }
      ]
    },
    {
      "cell_type": "code",
      "source": [
        "y_38.shape"
      ],
      "metadata": {
        "colab": {
          "base_uri": "https://localhost:8080/"
        },
        "id": "aUbDiDlGrnAe",
        "outputId": "06b3f1b2-87f0-4c33-8948-8dca5a74ea3e"
      },
      "execution_count": 60,
      "outputs": [
        {
          "output_type": "execute_result",
          "data": {
            "text/plain": [
              "(11982,)"
            ]
          },
          "metadata": {},
          "execution_count": 60
        }
      ]
    },
    {
      "cell_type": "code",
      "source": [
        "from sklearn.model_selection import train_test_split\n",
        "X_train_38 , X_test_38 , y_train_38 , y_test_38 = train_test_split(X_38 , y_38 , test_size = 0.3)"
      ],
      "metadata": {
        "id": "yRWCeuyvrpy3"
      },
      "execution_count": 61,
      "outputs": []
    },
    {
      "cell_type": "code",
      "source": [
        "y_train_38[:100]"
      ],
      "metadata": {
        "colab": {
          "base_uri": "https://localhost:8080/"
        },
        "id": "wNAB9yfqr-02",
        "outputId": "614d99aa-e661-4c4e-98dd-2d1be053548c"
      },
      "execution_count": 62,
      "outputs": [
        {
          "output_type": "execute_result",
          "data": {
            "text/plain": [
              "array([1, 1, 1, 1, 1, 1, 0, 1, 0, 1, 0, 0, 1, 1, 0, 0, 1, 0, 0, 1, 0, 0,\n",
              "       0, 0, 1, 1, 0, 0, 0, 1, 1, 1, 1, 1, 0, 1, 1, 1, 1, 0, 0, 1, 1, 1,\n",
              "       0, 0, 0, 0, 1, 0, 0, 0, 0, 1, 1, 0, 1, 0, 0, 0, 1, 0, 0, 1, 0, 0,\n",
              "       0, 1, 0, 1, 0, 0, 1, 1, 1, 1, 0, 0, 0, 0, 1, 1, 0, 0, 1, 1, 1, 0,\n",
              "       1, 0, 1, 1, 0, 0, 0, 1, 0, 1, 1, 1], dtype=int32)"
            ]
          },
          "metadata": {},
          "execution_count": 62
        }
      ]
    },
    {
      "cell_type": "code",
      "source": [
        "y_train_38.shape"
      ],
      "metadata": {
        "colab": {
          "base_uri": "https://localhost:8080/"
        },
        "id": "rNVKjlpRsBVe",
        "outputId": "15f56379-ec87-4ab9-a828-f7fb30abbdb6"
      },
      "execution_count": 63,
      "outputs": [
        {
          "output_type": "execute_result",
          "data": {
            "text/plain": [
              "(8387,)"
            ]
          },
          "metadata": {},
          "execution_count": 63
        }
      ]
    },
    {
      "cell_type": "code",
      "source": [
        "X_train_38.shape"
      ],
      "metadata": {
        "colab": {
          "base_uri": "https://localhost:8080/"
        },
        "id": "tM4sEL4RsFOv",
        "outputId": "57abfab5-a956-4524-c412-e6a769464b00"
      },
      "execution_count": 64,
      "outputs": [
        {
          "output_type": "execute_result",
          "data": {
            "text/plain": [
              "(8387, 784)"
            ]
          },
          "metadata": {},
          "execution_count": 64
        }
      ]
    },
    {
      "cell_type": "code",
      "source": [
        "pip install stg"
      ],
      "metadata": {
        "colab": {
          "base_uri": "https://localhost:8080/"
        },
        "id": "jPbEuikisHsm",
        "outputId": "73aec5e3-9be4-45c9-d0f8-5bfeac57f23a"
      },
      "execution_count": 65,
      "outputs": [
        {
          "output_type": "stream",
          "name": "stdout",
          "text": [
            "Looking in indexes: https://pypi.org/simple, https://us-python.pkg.dev/colab-wheels/public/simple/\n",
            "Requirement already satisfied: stg in /usr/local/lib/python3.7/dist-packages (0.1.2)\n",
            "Requirement already satisfied: h5py in /usr/local/lib/python3.7/dist-packages (from stg) (3.1.0)\n",
            "Requirement already satisfied: six in /usr/local/lib/python3.7/dist-packages (from stg) (1.15.0)\n",
            "Requirement already satisfied: lifelines in /usr/local/lib/python3.7/dist-packages (from stg) (0.27.3)\n",
            "Requirement already satisfied: torch in /usr/local/lib/python3.7/dist-packages (from stg) (1.12.1+cu113)\n",
            "Requirement already satisfied: cached-property in /usr/local/lib/python3.7/dist-packages (from h5py->stg) (1.5.2)\n",
            "Requirement already satisfied: numpy>=1.14.5 in /usr/local/lib/python3.7/dist-packages (from h5py->stg) (1.21.6)\n",
            "Requirement already satisfied: autograd>=1.3 in /usr/local/lib/python3.7/dist-packages (from lifelines->stg) (1.5)\n",
            "Requirement already satisfied: formulaic>=0.2.2 in /usr/local/lib/python3.7/dist-packages (from lifelines->stg) (0.5.2)\n",
            "Requirement already satisfied: autograd-gamma>=0.3 in /usr/local/lib/python3.7/dist-packages (from lifelines->stg) (0.5.0)\n",
            "Requirement already satisfied: matplotlib>=3.0 in /usr/local/lib/python3.7/dist-packages (from lifelines->stg) (3.2.2)\n",
            "Requirement already satisfied: pandas>=1.0.0 in /usr/local/lib/python3.7/dist-packages (from lifelines->stg) (1.3.5)\n",
            "Requirement already satisfied: scipy>=1.2.0 in /usr/local/lib/python3.7/dist-packages (from lifelines->stg) (1.7.3)\n",
            "Requirement already satisfied: future>=0.15.2 in /usr/local/lib/python3.7/dist-packages (from autograd>=1.3->lifelines->stg) (0.16.0)\n",
            "Requirement already satisfied: interface-meta>=1.2.0 in /usr/local/lib/python3.7/dist-packages (from formulaic>=0.2.2->lifelines->stg) (1.3.0)\n",
            "Requirement already satisfied: astor>=0.8 in /usr/local/lib/python3.7/dist-packages (from formulaic>=0.2.2->lifelines->stg) (0.8.1)\n",
            "Requirement already satisfied: typing-extensions>=4.2.0 in /usr/local/lib/python3.7/dist-packages (from formulaic>=0.2.2->lifelines->stg) (4.4.0)\n",
            "Requirement already satisfied: wrapt>=1.0 in /usr/local/lib/python3.7/dist-packages (from formulaic>=0.2.2->lifelines->stg) (1.14.1)\n",
            "Requirement already satisfied: graphlib-backport>=1.0.0 in /usr/local/lib/python3.7/dist-packages (from formulaic>=0.2.2->lifelines->stg) (1.0.3)\n",
            "Requirement already satisfied: pyparsing!=2.0.4,!=2.1.2,!=2.1.6,>=2.0.1 in /usr/local/lib/python3.7/dist-packages (from matplotlib>=3.0->lifelines->stg) (3.0.9)\n",
            "Requirement already satisfied: python-dateutil>=2.1 in /usr/local/lib/python3.7/dist-packages (from matplotlib>=3.0->lifelines->stg) (2.8.2)\n",
            "Requirement already satisfied: kiwisolver>=1.0.1 in /usr/local/lib/python3.7/dist-packages (from matplotlib>=3.0->lifelines->stg) (1.4.4)\n",
            "Requirement already satisfied: cycler>=0.10 in /usr/local/lib/python3.7/dist-packages (from matplotlib>=3.0->lifelines->stg) (0.11.0)\n",
            "Requirement already satisfied: pytz>=2017.3 in /usr/local/lib/python3.7/dist-packages (from pandas>=1.0.0->lifelines->stg) (2022.5)\n"
          ]
        }
      ]
    },
    {
      "cell_type": "code",
      "source": [
        "args_cuda = torch.cuda.is_available()\n",
        "device = torch.device(\"cuda\" if args_cuda else \"cpu\") \n",
        "feature_selection = True\n",
        "model = STG(task_type='classification',input_dim=X_train_38.shape[1], output_dim=2, hidden_dims=[500,50, 20], activation='tanh',\n",
        "    optimizer='SGD', learning_rate=0.1, batch_size=100, feature_selection=feature_selection, sigma=0.5, lam=0.5, random_state=1, device=device) "
      ],
      "metadata": {
        "id": "mrcAE7Of03-Z"
      },
      "execution_count": 98,
      "outputs": []
    },
    {
      "cell_type": "code",
      "source": [
        "model.fit(X_train_38, y_train_38 , nr_epochs = 3000, valid_X=X_test_38, valid_y=y_test_38 , print_interval=100)"
      ],
      "metadata": {
        "colab": {
          "base_uri": "https://localhost:8080/"
        },
        "id": "4FC-gaKI1LeD",
        "outputId": "af0b5b9d-f439-4314-f126-28a7f1f0ac93"
      },
      "execution_count": null,
      "outputs": [
        {
          "output_type": "stream",
          "name": "stderr",
          "text": [
            "/usr/local/lib/python3.7/dist-packages/stg/models.py:171: UserWarning: Implicit dimension choice for softmax has been deprecated. Change the call to include dim=X as an argument.\n",
            "  value = self.softmax(logits)\n"
          ]
        },
        {
          "output_type": "stream",
          "name": "stdout",
          "text": [
            "Epoch: 100: loss=0.384159 valid_loss=0.032002\n",
            "Epoch: 200: loss=0.344535 valid_loss=0.040437\n",
            "Epoch: 300: loss=0.319666 valid_loss=0.057212\n",
            "Epoch: 400: loss=0.306072 valid_loss=0.049581\n",
            "Epoch: 500: loss=0.296632 valid_loss=0.051937\n",
            "Epoch: 600: loss=0.296774 valid_loss=0.060834\n",
            "Epoch: 700: loss=0.292756 valid_loss=0.047191\n",
            "Epoch: 800: loss=0.290354 valid_loss=0.048774\n",
            "Epoch: 900: loss=0.288976 valid_loss=0.056975\n",
            "Epoch: 1000: loss=0.288151 valid_loss=0.054504\n",
            "Epoch: 1100: loss=0.286091 valid_loss=0.055870\n",
            "Epoch: 1200: loss=0.285930 valid_loss=0.044229\n",
            "Epoch: 1300: loss=0.286016 valid_loss=0.060317\n",
            "Epoch: 1400: loss=0.285247 valid_loss=0.053764\n",
            "Epoch: 1500: loss=0.288659 valid_loss=0.052900\n",
            "Epoch: 1600: loss=0.286506 valid_loss=0.046013\n",
            "Epoch: 1700: loss=0.285534 valid_loss=0.065060\n",
            "Epoch: 1800: loss=0.285154 valid_loss=0.042329\n",
            "Epoch: 1900: loss=0.285575 valid_loss=0.056821\n",
            "Epoch: 2000: loss=0.286326 valid_loss=0.050589\n",
            "Epoch: 2100: loss=0.284111 valid_loss=0.061283\n"
          ]
        }
      ]
    },
    {
      "cell_type": "code",
      "source": [
        "gate = model.get_gates(mode='prob')"
      ],
      "metadata": {
        "id": "TqYbKQuc1eLq"
      },
      "execution_count": null,
      "outputs": []
    },
    {
      "cell_type": "code",
      "source": [
        "plt.imshow(1-gate.reshape(28,28))"
      ],
      "metadata": {
        "id": "lANXlj2l1f3v"
      },
      "execution_count": null,
      "outputs": []
    }
  ]
}